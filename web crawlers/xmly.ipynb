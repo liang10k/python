{
 "cells": [
  {
   "cell_type": "code",
   "execution_count": 1,
   "metadata": {
    "collapsed": true
   },
   "outputs": [],
   "source": [
    "import requests "
   ]
  },
  {
   "cell_type": "code",
   "execution_count": 23,
   "metadata": {
    "collapsed": true
   },
   "outputs": [],
   "source": [
    "import time "
   ]
  },
  {
   "cell_type": "code",
   "execution_count": 15,
   "metadata": {
    "collapsed": true
   },
   "outputs": [],
   "source": [
    "import os"
   ]
  },
  {
   "cell_type": "code",
   "execution_count": 10,
   "metadata": {
    "collapsed": true
   },
   "outputs": [],
   "source": [
    "from bs4 import BeautifulSoup\n",
    "from lxml import etree"
   ]
  },
  {
   "cell_type": "code",
   "execution_count": null,
   "metadata": {
    "collapsed": true
   },
   "outputs": [],
   "source": [
    "import sys \n",
    "reload (sys)\n",
    "sys.setdefaultencoding('utf-8')"
   ]
  },
  {
   "cell_type": "code",
   "execution_count": 3,
   "metadata": {
    "collapsed": true
   },
   "outputs": [],
   "source": [
    "headers = {\n",
    "    'User-Agent':'Mozilla/5.0 (Macintosh; Intel Mac OS X 10_10_5) AppleWebKit/537.36 (KHTML, like Gecko) Chrome/64.0.3282.186 Safari/537.36',\n",
    "}\n",
    "# help requests.get read the url as a broswer"
   ]
  },
  {
   "cell_type": "code",
   "execution_count": 26,
   "metadata": {},
   "outputs": [
    {
     "name": "stdout",
     "output_type": "stream",
     "text": [
      "http://www.ximalaya.com/7327678/album/2650009/\n",
      "音乐优品\n",
      "100\n",
      "name file exists \n",
      "音乐优品downloaded\n",
      "音乐优品downloaded\n",
      "音乐优品downloaded\n",
      "音乐优品downloaded\n",
      "音乐优品downloaded\n",
      "音乐优品downloaded\n",
      "音乐优品downloaded\n",
      "音乐优品downloaded\n",
      "音乐优品downloaded\n",
      "音乐优品downloaded\n",
      "音乐优品downloaded\n",
      "音乐优品downloaded\n",
      "音乐优品downloaded\n",
      "音乐优品downloaded\n",
      "音乐优品downloaded\n",
      "音乐优品downloaded\n",
      "音乐优品downloaded\n",
      "音乐优品downloaded\n",
      "音乐优品downloaded\n",
      "音乐优品downloaded\n",
      "音乐优品downloaded\n",
      "音乐优品downloaded\n",
      "音乐优品downloaded\n",
      "音乐优品downloaded\n",
      "音乐优品downloaded\n",
      "音乐优品downloaded\n",
      "音乐优品downloaded\n",
      "音乐优品downloaded\n",
      "音乐优品downloaded\n",
      "音乐优品downloaded\n",
      "音乐优品downloaded\n",
      "音乐优品downloaded\n",
      "音乐优品downloaded\n",
      "音乐优品downloaded\n",
      "音乐优品downloaded\n",
      "音乐优品downloaded\n",
      "音乐优品downloaded\n",
      "音乐优品downloaded\n",
      "音乐优品downloaded\n",
      "音乐优品downloaded\n",
      "音乐优品downloaded\n",
      "音乐优品downloaded\n",
      "音乐优品downloaded\n",
      "音乐优品downloaded\n",
      "音乐优品downloaded\n",
      "音乐优品downloaded\n",
      "音乐优品downloaded\n",
      "音乐优品downloaded\n",
      "音乐优品downloaded\n",
      "音乐优品downloaded\n",
      "音乐优品downloaded\n",
      "音乐优品downloaded\n",
      "音乐优品downloaded\n",
      "音乐优品downloaded\n",
      "音乐优品downloaded\n",
      "音乐优品downloaded\n",
      "音乐优品downloaded\n",
      "音乐优品downloaded\n",
      "音乐优品downloaded\n",
      "音乐优品downloaded\n",
      "音乐优品downloaded\n",
      "音乐优品downloaded\n",
      "音乐优品downloaded\n",
      "音乐优品downloaded\n",
      "音乐优品downloaded\n",
      "音乐优品downloaded\n",
      "音乐优品downloaded\n",
      "音乐优品downloaded\n",
      "音乐优品downloaded\n",
      "音乐优品downloaded\n",
      "音乐优品downloaded\n",
      "音乐优品downloaded\n",
      "音乐优品downloaded\n",
      "音乐优品downloaded\n",
      "音乐优品downloaded\n",
      "音乐优品downloaded\n",
      "音乐优品downloaded\n",
      "音乐优品downloaded\n",
      "音乐优品downloaded\n",
      "音乐优品downloaded\n",
      "音乐优品downloaded\n",
      "音乐优品downloaded\n",
      "音乐优品downloaded\n",
      "音乐优品downloaded\n",
      "音乐优品downloaded\n",
      "音乐优品downloaded\n",
      "音乐优品downloaded\n",
      "音乐优品downloaded\n",
      "音乐优品downloaded\n",
      "音乐优品downloaded\n",
      "音乐优品downloaded\n",
      "音乐优品downloaded\n",
      "音乐优品downloaded\n",
      "音乐优品downloaded\n",
      "音乐优品downloaded\n",
      "音乐优品downloaded\n",
      "音乐优品downloaded\n",
      "音乐优品downloaded\n",
      "音乐优品downloaded\n",
      "音乐优品downloaded\n"
     ]
    }
   ],
   "source": [
    "def get_detail_url():\n",
    "    start_urls=['http://www.ximalaya.com/dq/all/{}/'.format(pn) for pn in range (1,85)]\n",
    "    #read each url of the website \n",
    "    for start_url in start_urls:\n",
    "        response = requests.get(start_url,headers = headers).text\n",
    "        soup = BeautifulSoup(response,'lxml')\n",
    "        for item in soup.find_all('div',class_='discoverAlbum_item'):\n",
    "            href = item.a['href']\n",
    "            title = item.img['alt']\n",
    "            img_url = item.img['src']\n",
    "            content = {\n",
    "                'href': item.a['href'],\n",
    "                'title': item.img['alt'],\n",
    "                'img_url': item.img['src'],\n",
    "            }\n",
    "            \n",
    "            #print('downloading{}'.format(item.img['alt']))\n",
    "            print(item.a['href'])  \n",
    "            print(item.img['alt'])\n",
    "            get_mp3(href,title)\n",
    "            time.sleep(1)\n",
    "            break \n",
    "        break     \n",
    "             \n",
    "def get_mp3(url,title):\n",
    "    response = requests.get(url,headers = headers).text\n",
    "    num_list = etree.HTML(response).xpath('//div[@class=\"personal_body\"]/@sound_ids')[0].split(',')\n",
    "    print(len(num_list))\n",
    "    mkdir(title)\n",
    "    os.chdir(r'/Users/mtoasf/Desktop/xmly/'+title) #switch the path for saving file \n",
    "    for id in num_list:\n",
    "        json_url='http://www.ximalaya.com/tracks/{}.json'.format(id)\n",
    "        html = requests.get(json_url,headers = headers).json()\n",
    "        mp4_url = html.get('play_path')\n",
    "        download(mp4_url)\n",
    "        print(title+'downloaded')\n",
    "    \n",
    "def mkdir(title): \n",
    "    path = title.strip()\n",
    "    isExists = os.path.exists(os.path.join(r'/Users/mtoasf/Desktop/xmly/',path))\n",
    "    if not isExists:\n",
    "        print(u'get a 1 folder')\n",
    "        os.makedirs(os.path.join(r'/Users/mtoasf/Desktop/xmly/',title))\n",
    "        return True \n",
    "    else:\n",
    "        print(u'name file exists ')\n",
    "        return False \n",
    "\n",
    "def download(url):\n",
    "    \n",
    "    content = requests.get(url).content\n",
    "    name = url.split('/')[-1]\n",
    "    with open(name,'wb') as file :\n",
    "        file.write(content)\n",
    "        \n",
    "    \n",
    "if __name__ == '__main__'  :  \n",
    "    get_detail_url()"
   ]
  },
  {
   "cell_type": "code",
   "execution_count": null,
   "metadata": {},
   "outputs": [],
   "source": [
    "print('x')"
   ]
  }
 ],
 "metadata": {
  "kernelspec": {
   "display_name": "Python 3",
   "language": "python",
   "name": "python3"
  },
  "language_info": {
   "codemirror_mode": {
    "name": "ipython",
    "version": 3
   },
   "file_extension": ".py",
   "mimetype": "text/x-python",
   "name": "python",
   "nbconvert_exporter": "python",
   "pygments_lexer": "ipython3",
   "version": "3.6.5"
  }
 },
 "nbformat": 4,
 "nbformat_minor": 2
}
