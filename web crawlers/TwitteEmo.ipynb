{
 "cells": [
  {
   "cell_type": "code",
   "execution_count": 1,
   "metadata": {
    "collapsed": true
   },
   "outputs": [],
   "source": [
    "import tweepy\n",
    "from textblob import TextBlob\n",
    "import time\n",
    "from tweepy.streaming import StreamListener\n",
    "from tweepy import OAuthHandler\n",
    "from tweepy import Stream"
   ]
  },
  {
   "cell_type": "code",
   "execution_count": 2,
   "metadata": {
    "collapsed": true
   },
   "outputs": [],
   "source": [
    "consumer_key='7Rl2dNWbahxQcvHjrdqNo9Azc'\n",
    "consumer_secret='FlksRioJcF8fDw5VtkYQ2DXgOfI1Yu27ngwqw9BvrLsShx2TfW'\n",
    "\n",
    "access_token='3194888576-G35yt1YrrtSJ0FoHHDLLD5UMDKisQSWZYZixGKQ'\n",
    "access_token_secret='Xq4Gd1qDoGe075ek3GSnM5zZuILYZY4t3IteXeQWh8hQp'\n",
    "\n",
    "auth=tweepy.OAuthHandler(consumer_key,consumer_secret)\n",
    "auth.set_access_token(access_token,access_token_secret)\n",
    "api=tweepy.API(auth)"
   ]
  },
  {
   "cell_type": "code",
   "execution_count": 3,
   "metadata": {
    "collapsed": true
   },
   "outputs": [],
   "source": [
    "a = api.get_status(980562929652305921)\n",
    " \n"
   ]
  },
  {
   "cell_type": "code",
   "execution_count": 4,
   "metadata": {},
   "outputs": [
    {
     "name": "stdout",
     "output_type": "stream",
     "text": [
      "Status(contributors=None, truncated=False, text=u'More Flu-Related Deaths In Indiana As This Strain On The Rise https://t.co/bMTrAMhCYa', is_quote_status=False, in_reply_to_status_id=None, id=980562929652305921, favorite_count=0, _api=<tweepy.api.API object at 0x11209b150>, author=User(follow_request_sent=False, has_extended_profile=False, profile_use_background_image=True, _json={u'follow_request_sent': False, u'has_extended_profile': False, u'profile_use_background_image': True, u'default_profile_image': False, u'id': 903646632385896449, u'profile_background_image_url_https': None, u'verified': False, u'translator_type': u'none', u'profile_text_color': u'333333', u'profile_image_url_https': u'https://pbs.twimg.com/profile_images/931203353945632768/nh0VmkYF_normal.jpg', u'profile_sidebar_fill_color': u'DDEEF6', u'entities': {u'description': {u'urls': []}}, u'followers_count': 2, u'profile_sidebar_border_color': u'C0DEED', u'id_str': u'903646632385896449', u'profile_background_color': u'F5F8FA', u'listed_count': 0, u'is_translation_enabled': False, u'utc_offset': None, u'statuses_count': 255, u'description': u'', u'friends_count': 0, u'location': u'', u'profile_link_color': u'1DA1F2', u'profile_image_url': u'http://pbs.twimg.com/profile_images/931203353945632768/nh0VmkYF_normal.jpg', u'following': False, u'geo_enabled': False, u'profile_banner_url': u'https://pbs.twimg.com/profile_banners/903646632385896449/1504281276', u'profile_background_image_url': None, u'screen_name': u'MunsterPatch', u'lang': u'en', u'profile_background_tile': False, u'favourites_count': 0, u'name': u'Munster Patch', u'notifications': False, u'url': None, u'created_at': u'Fri Sep 01 15:52:00 +0000 2017', u'contributors_enabled': False, u'time_zone': None, u'protected': False, u'default_profile': True, u'is_translator': False}, time_zone=None, id=903646632385896449, description=u'', _api=<tweepy.api.API object at 0x11209b150>, verified=False, profile_text_color=u'333333', profile_image_url_https=u'https://pbs.twimg.com/profile_images/931203353945632768/nh0VmkYF_normal.jpg', profile_sidebar_fill_color=u'DDEEF6', is_translator=False, geo_enabled=False, entities={u'description': {u'urls': []}}, followers_count=2, protected=False, id_str=u'903646632385896449', default_profile_image=False, listed_count=0, lang=u'en', utc_offset=None, statuses_count=255, profile_background_color=u'F5F8FA', friends_count=0, profile_link_color=u'1DA1F2', profile_image_url=u'http://pbs.twimg.com/profile_images/931203353945632768/nh0VmkYF_normal.jpg', notifications=False, default_profile=True, profile_background_image_url_https=None, profile_banner_url=u'https://pbs.twimg.com/profile_banners/903646632385896449/1504281276', profile_background_image_url=None, name=u'Munster Patch', is_translation_enabled=False, profile_background_tile=False, favourites_count=0, screen_name=u'MunsterPatch', url=None, created_at=datetime.datetime(2017, 9, 1, 15, 52), contributors_enabled=False, location=u'', profile_sidebar_border_color=u'C0DEED', translator_type=u'none', following=False), _json={u'contributors': None, u'truncated': False, u'text': u'More Flu-Related Deaths In Indiana As This Strain On The Rise https://t.co/bMTrAMhCYa', u'is_quote_status': False, u'in_reply_to_status_id': None, u'id': 980562929652305921, u'favorite_count': 0, u'source': u'<a href=\"http://www.socialflow.com\" rel=\"nofollow\">SocialFlow</a>', u'retweeted': False, u'coordinates': None, u'entities': {u'symbols': [], u'user_mentions': [], u'hashtags': [], u'urls': [{u'url': u'https://t.co/bMTrAMhCYa', u'indices': [62, 85], u'expanded_url': u'https://trib.al/hmkxSZp', u'display_url': u'trib.al/hmkxSZp'}]}, u'in_reply_to_screen_name': None, u'in_reply_to_user_id': None, u'retweet_count': 0, u'id_str': u'980562929652305921', u'favorited': False, u'user': {u'follow_request_sent': False, u'has_extended_profile': False, u'profile_use_background_image': True, u'default_profile_image': False, u'id': 903646632385896449, u'profile_background_image_url_https': None, u'verified': False, u'translator_type': u'none', u'profile_text_color': u'333333', u'profile_image_url_https': u'https://pbs.twimg.com/profile_images/931203353945632768/nh0VmkYF_normal.jpg', u'profile_sidebar_fill_color': u'DDEEF6', u'entities': {u'description': {u'urls': []}}, u'followers_count': 2, u'profile_sidebar_border_color': u'C0DEED', u'id_str': u'903646632385896449', u'profile_background_color': u'F5F8FA', u'listed_count': 0, u'is_translation_enabled': False, u'utc_offset': None, u'statuses_count': 255, u'description': u'', u'friends_count': 0, u'location': u'', u'profile_link_color': u'1DA1F2', u'profile_image_url': u'http://pbs.twimg.com/profile_images/931203353945632768/nh0VmkYF_normal.jpg', u'following': False, u'geo_enabled': False, u'profile_banner_url': u'https://pbs.twimg.com/profile_banners/903646632385896449/1504281276', u'profile_background_image_url': None, u'screen_name': u'MunsterPatch', u'lang': u'en', u'profile_background_tile': False, u'favourites_count': 0, u'name': u'Munster Patch', u'notifications': False, u'url': None, u'created_at': u'Fri Sep 01 15:52:00 +0000 2017', u'contributors_enabled': False, u'time_zone': None, u'protected': False, u'default_profile': True, u'is_translator': False}, u'geo': None, u'in_reply_to_user_id_str': None, u'possibly_sensitive': False, u'possibly_sensitive_appealable': False, u'lang': u'en', u'created_at': u'Sun Apr 01 21:49:55 +0000 2018', u'in_reply_to_status_id_str': None, u'place': None}, coordinates=None, entities={u'symbols': [], u'user_mentions': [], u'hashtags': [], u'urls': [{u'url': u'https://t.co/bMTrAMhCYa', u'indices': [62, 85], u'expanded_url': u'https://trib.al/hmkxSZp', u'display_url': u'trib.al/hmkxSZp'}]}, in_reply_to_screen_name=None, id_str=u'980562929652305921', retweet_count=0, in_reply_to_user_id=None, favorited=False, source_url=u'http://www.socialflow.com', user=User(follow_request_sent=False, has_extended_profile=False, profile_use_background_image=True, _json={u'follow_request_sent': False, u'has_extended_profile': False, u'profile_use_background_image': True, u'default_profile_image': False, u'id': 903646632385896449, u'profile_background_image_url_https': None, u'verified': False, u'translator_type': u'none', u'profile_text_color': u'333333', u'profile_image_url_https': u'https://pbs.twimg.com/profile_images/931203353945632768/nh0VmkYF_normal.jpg', u'profile_sidebar_fill_color': u'DDEEF6', u'entities': {u'description': {u'urls': []}}, u'followers_count': 2, u'profile_sidebar_border_color': u'C0DEED', u'id_str': u'903646632385896449', u'profile_background_color': u'F5F8FA', u'listed_count': 0, u'is_translation_enabled': False, u'utc_offset': None, u'statuses_count': 255, u'description': u'', u'friends_count': 0, u'location': u'', u'profile_link_color': u'1DA1F2', u'profile_image_url': u'http://pbs.twimg.com/profile_images/931203353945632768/nh0VmkYF_normal.jpg', u'following': False, u'geo_enabled': False, u'profile_banner_url': u'https://pbs.twimg.com/profile_banners/903646632385896449/1504281276', u'profile_background_image_url': None, u'screen_name': u'MunsterPatch', u'lang': u'en', u'profile_background_tile': False, u'favourites_count': 0, u'name': u'Munster Patch', u'notifications': False, u'url': None, u'created_at': u'Fri Sep 01 15:52:00 +0000 2017', u'contributors_enabled': False, u'time_zone': None, u'protected': False, u'default_profile': True, u'is_translator': False}, time_zone=None, id=903646632385896449, description=u'', _api=<tweepy.api.API object at 0x11209b150>, verified=False, profile_text_color=u'333333', profile_image_url_https=u'https://pbs.twimg.com/profile_images/931203353945632768/nh0VmkYF_normal.jpg', profile_sidebar_fill_color=u'DDEEF6', is_translator=False, geo_enabled=False, entities={u'description': {u'urls': []}}, followers_count=2, protected=False, id_str=u'903646632385896449', default_profile_image=False, listed_count=0, lang=u'en', utc_offset=None, statuses_count=255, profile_background_color=u'F5F8FA', friends_count=0, profile_link_color=u'1DA1F2', profile_image_url=u'http://pbs.twimg.com/profile_images/931203353945632768/nh0VmkYF_normal.jpg', notifications=False, default_profile=True, profile_background_image_url_https=None, profile_banner_url=u'https://pbs.twimg.com/profile_banners/903646632385896449/1504281276', profile_background_image_url=None, name=u'Munster Patch', is_translation_enabled=False, profile_background_tile=False, favourites_count=0, screen_name=u'MunsterPatch', url=None, created_at=datetime.datetime(2017, 9, 1, 15, 52), contributors_enabled=False, location=u'', profile_sidebar_border_color=u'C0DEED', translator_type=u'none', following=False), geo=None, in_reply_to_user_id_str=None, possibly_sensitive=False, possibly_sensitive_appealable=False, lang=u'en', created_at=datetime.datetime(2018, 4, 1, 21, 49, 55), in_reply_to_status_id_str=None, place=None, source=u'SocialFlow', retweeted=False)\n"
     ]
    }
   ],
   "source": [
    "print(a)"
   ]
  },
  {
   "cell_type": "markdown",
   "metadata": {
    "collapsed": true
   },
   "source": [
    "\n",
    "class StdoutListener(StreamListener):\n",
    "    def on_data(self,data):\n",
    "        try:\n",
    "            print (data)\n",
    "            savefile=open('D:/SIT_Class/EE 551 Python/crawler/twitter222.txt','a')\n",
    "            savefile.write(data)\n",
    "            savefile.write(\"\\n\")\n",
    "            savefile.close()\n",
    "            return True\n",
    "        except BaseException as e:\n",
    "            print(\"Failed on Data\",str(e))\n",
    "            time.sleep(5)\n",
    "    def on_erro(self,status):\n",
    "        print(status)\n"
   ]
  },
  {
   "cell_type": "markdown",
   "metadata": {},
   "source": [
    "if __name__ == \"__main__\":\n",
    "    l=StdoutListener()\n",
    "    auth=tweepy.OAuthHandler(consumer_key,consumer_secret)\n",
    "    auth.set_access_token(access_token,access_token_secret)\n",
    "    stream=Stream(auth,l)\n",
    "    stream.filter(track=['#Flu2018'])\n"
   ]
  },
  {
   "cell_type": "markdown",
   "metadata": {},
   "source": [
    "api=tweepy.API(auth)\n",
    "public_tweets=api.search('#Flu2018')\n",
    "\n",
    "for tweet in public_tweets:\n",
    "    print(tweet.text)\n",
    "    analysis=TextBlob(tweet.text)\n",
    "    print(analysis.sentiment)"
   ]
  },
  {
   "cell_type": "code",
   "execution_count": null,
   "metadata": {
    "collapsed": true
   },
   "outputs": [],
   "source": []
  },
  {
   "cell_type": "code",
   "execution_count": null,
   "metadata": {
    "collapsed": true
   },
   "outputs": [],
   "source": []
  }
 ],
 "metadata": {
  "kernelspec": {
   "display_name": "Python 2",
   "language": "python",
   "name": "python2"
  },
  "language_info": {
   "codemirror_mode": {
    "name": "ipython",
    "version": 2
   },
   "file_extension": ".py",
   "mimetype": "text/x-python",
   "name": "python",
   "nbconvert_exporter": "python",
   "pygments_lexer": "ipython2",
   "version": "2.7.13"
  }
 },
 "nbformat": 4,
 "nbformat_minor": 2
}
