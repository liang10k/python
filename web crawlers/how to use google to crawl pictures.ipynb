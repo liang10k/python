{
 "cells": [
  {
   "cell_type": "code",
   "execution_count": 2,
   "metadata": {},
   "outputs": [],
   "source": [
    "import os\n",
    "import urllib.request as ulib\n",
    "from bs4 import BeautifulSoup as Soup\n",
    "import json\n",
    "\n",
    "url_a = 'https://www.google.com/search?ei=1m7NWePfFYaGmQG51q7IBg&hl=en&q={}'# curly brace left to put the search string\n",
    "url_b = '\\&tbm=isch&ved=0ahUKEwjjovnD7sjWAhUGQyYKHTmrC2kQuT0I7gEoAQ&start={}'# curly brace left to put the page number\n",
    "url_c = '\\&yv=2&vet=10ahUKEwjjovnD7sjWAhUGQyYKHTmrC2kQuT0I7gEoAQ.1m7NWePfFYaGmQG51q7IBg'\n",
    "url_d = '\\.i&ijn=1&asearch=ichunk&async=_id:rg_s,_pms:s'\n",
    "url_base = ''.join((url_a, url_b, url_c, url_d)) #combine all url together\n",
    "\n",
    "headers = {'User-Agent': 'Chrome/41.0.2228.0 Safari/537.36'}\n",
    "\n",
    "# get images\n",
    "def get_links(search_name):\n",
    "    search_name = search_name.replace(' ', '+')\n",
    "    url = url_base.format(search_name, 0) # fill the curly brace of url a\n",
    "    request = ulib.Request(url, None, headers)\n",
    "    json_string = ulib.urlopen(request).read()# read url and read contant in website\n",
    "    page = json.loads(json_string)\n",
    "    new_soup = Soup(page[1][1], 'lxml')#take lxml then get tags esaily\n",
    "    images = new_soup.find_all('img')# find images tag\n",
    "    links = [image['src'] for image in images] \n",
    "    return links\n",
    "\n",
    "# \n",
    "def save_images(links, search_name):\n",
    "    directory = search_name.replace(' ', '_')\n",
    "    if not os.path.isdir(directory):\n",
    "        os.mkdir(directory)\n",
    "\n",
    "    for i, link in enumerate(links):\n",
    "        savepath = os.path.join(directory, '{:06}.png'.format(i))\n",
    "        ulib.urlretrieve(link, savepath)\n",
    "\n",
    "\n",
    "if __name__ == '__main__':\n",
    "    search_name = 'Gundam'\n",
    "    links = get_links(search_name)\n",
    "    save_images(links, search_name)\n"
   ]
  },
  {
   "cell_type": "code",
   "execution_count": null,
   "metadata": {},
   "outputs": [],
   "source": []
  },
  {
   "cell_type": "code",
   "execution_count": null,
   "metadata": {},
   "outputs": [],
   "source": []
  }
 ],
 "metadata": {
  "kernelspec": {
   "display_name": "Python 3",
   "language": "python",
   "name": "python3"
  },
  "language_info": {
   "codemirror_mode": {
    "name": "ipython",
    "version": 3
   },
   "file_extension": ".py",
   "mimetype": "text/x-python",
   "name": "python",
   "nbconvert_exporter": "python",
   "pygments_lexer": "ipython3",
   "version": "3.6.5"
  }
 },
 "nbformat": 4,
 "nbformat_minor": 2
}
