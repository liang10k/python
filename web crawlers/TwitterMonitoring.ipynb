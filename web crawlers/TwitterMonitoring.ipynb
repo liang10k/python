{
 "cells": [
  {
   "cell_type": "code",
   "execution_count": 7,
   "metadata": {},
   "outputs": [
    {
     "ename": "ImportError",
     "evalue": "No module named twitter",
     "output_type": "error",
     "traceback": [
      "\u001b[0;31m---------------------------------------------------------------------------\u001b[0m",
      "\u001b[0;31mImportError\u001b[0m                               Traceback (most recent call last)",
      "\u001b[0;32m<ipython-input-7-c7561f8cca5a>\u001b[0m in \u001b[0;36m<module>\u001b[0;34m()\u001b[0m\n\u001b[1;32m      1\u001b[0m \u001b[0;31m# Importing this just for fun!\u001b[0m\u001b[0;34m\u001b[0m\u001b[0;34m\u001b[0m\u001b[0m\n\u001b[1;32m      2\u001b[0m \u001b[0;32mimport\u001b[0m \u001b[0mthis\u001b[0m\u001b[0;34m\u001b[0m\u001b[0m\n\u001b[0;32m----> 3\u001b[0;31m \u001b[0;32mimport\u001b[0m \u001b[0mtwitter\u001b[0m\u001b[0;34m\u001b[0m\u001b[0m\n\u001b[0m\u001b[1;32m      4\u001b[0m \u001b[0;31m# Import json package\u001b[0m\u001b[0;34m\u001b[0m\u001b[0;34m\u001b[0m\u001b[0m\n\u001b[1;32m      5\u001b[0m \u001b[0;32mimport\u001b[0m \u001b[0mjson\u001b[0m\u001b[0;34m\u001b[0m\u001b[0m\n",
      "\u001b[0;31mImportError\u001b[0m: No module named twitter"
     ]
    }
   ],
   "source": [
    "# Importing this just for fun!\n",
    "import this\n",
    "import twitter \n",
    "# Import json package\n",
    "import json\n",
    "# Import sqlite3 package\n",
    "import sqlite3\n",
    "\n",
    "# Import re package\n",
    "import re\n",
    "# Import time package\n",
    "import time\n",
    "# Import sys package\n",
    "import sys\n",
    "\n",
    "from tweepy.streaming import StreamListener\n",
    "from tweepy import OAuthHandler\n",
    "from tweepy import Stream"
   ]
  },
  {
   "cell_type": "code",
   "execution_count": null,
   "metadata": {},
   "outputs": [],
   "source": [
    "%cd \"/Users/mtoasf/Downloads\""
   ]
  },
  {
   "cell_type": "code",
   "execution_count": null,
   "metadata": {},
   "outputs": [],
   "source": [
    "consumer_key='7Rl2dNWbahxQcvHjrdqNo9Azc'\n",
    "consumer_secret='FlksRioJcF8fDw5VtkYQ2DXgOfI1Yu27ngwqw9BvrLsShx2TfW'\n",
    "\n",
    "access_token='3194888576-G35yt1YrrtSJ0FoHHDLLD5UMDKisQSWZYZixGKQ'\n",
    "access_token_secret='Xq4Gd1qDoGe075ek3GSnM5zZuILYZY4t3IteXeQWh8hQp'\n",
    "\n",
    "#auth=tweepy.OAuthHandler(consumer_key,consumer_secret)\n",
    "#auth.set_access_token(access_token,access_token_secret)\n",
    "\n",
    "api=twitter.Api(consumer_key,consumer_secret,access_token,access_token_secret)"
   ]
  },
  {
   "cell_type": "code",
   "execution_count": null,
   "metadata": {
    "collapsed": true
   },
   "outputs": [],
   "source": [
    "def initiate_sqlite():\n",
    "\n",
    "    # Connecting to \"monitoring\" database already set before up using sqlite3\n",
    "    conn = sqlite3.connect(\"monitoring.db\")\n",
    "    \n",
    "    # Adding \"TWEETS\" table to the database\n",
    "    conn.execute('''CREATE TABLE TWEETS (ID TEXT PRIMARY KEY,\n",
    "                 TIME DATE,\n",
    "                 NAME TEXT, \n",
    "                 COORD1 REAL,\n",
    "                 COORD2 REAL,\n",
    "                 CONTENT TEXT);''')\n",
    "    \n",
    "    conn.commit()\n",
    "    conn.close()\n",
    "    \n",
    "    return\n"
   ]
  },
  {
   "cell_type": "code",
   "execution_count": null,
   "metadata": {
    "collapsed": true
   },
   "outputs": [],
   "source": [
    "def sqlite_write(twitter_id, screen_name_of_user, coord1, coord2, text_of_tweet):\n",
    "    \n",
    "    # Connecting to \"monitoring\" database already set up before using sqlite3\n",
    "    conn = sqlite3.connect(\"monitoring.db\")\n",
    "    \n",
    "    # Insert Query \"TWEETS\" table and excecuting the command\n",
    "    # using a sqlite timestamp for the time column\n",
    "    command = \"INSERT INTO TWEETS VALUES ('\"+twitter_id+\"',datetime('now', 'localtime'),'\"+screen_name_of_user+\"','\"+str(coord1)+\"','\"+str(coord2)+\"', '\"+text_of_tweet+\"');\"\n",
    "    conn.execute(command)\n",
    "    \n",
    "    # Commiting and closing the connection to the database\n",
    "    conn.commit()\n",
    "    conn.close()\n",
    "    \n",
    "    return"
   ]
  },
  {
   "cell_type": "code",
   "execution_count": null,
   "metadata": {
    "collapsed": true
   },
   "outputs": [],
   "source": [
    "def sqlite_read():\n",
    "    \n",
    "    # Connecting to \"monitoring\" database already set before up using sqlite3\n",
    "    conn = sqlite3.connect(\"monitoring.db\")\n",
    "    c = conn.cursor()\n",
    "    \n",
    "    # Select Query \"TWEETS\" table for the tweets added to the database in the last 10 minutes\n",
    "    command = \"SELECT * FROM TWEETS WHERE TIME BETWEEN datetime('now', 'localtime', '-10 minutes') AND datetime('now', 'localtime');\"\n",
    "    c.execute(command)\n",
    "    \n",
    "    # fetching the selected data into the rows list\n",
    "    rows = c.fetchall()\n",
    "    \n",
    "    # closing the connection to the database\n",
    "    conn.close()\n",
    "    \n",
    "    return rows"
   ]
  },
  {
   "cell_type": "code",
   "execution_count": null,
   "metadata": {
    "collapsed": true
   },
   "outputs": [],
   "source": [
    "def sqlite_count():\n",
    "    \n",
    "    # Connecting to \"monitoring\" database already set before up using sqlite3\n",
    "    conn = sqlite3.connect(\"monitoring.db\")\n",
    "    c = conn.cursor()\n",
    "    \n",
    "    # Select Query \"TWEETS\" table for the tweets added to the database in the last 10 minutes\n",
    "    \n",
    "    command = \"SELECT COUNT(*) FROM TWEETS WHERE TIME BETWEEN datetime('now', 'localtime', '-1000 minutes') AND datetime('now', 'localtime');\"\n",
    "    c.execute(command)\n",
    "    \n",
    "    # fetching the count data\n",
    "    count = c.fetchall()\n",
    "    \n",
    "    # closing the connection to the database\n",
    "    conn.close()\n",
    "    \n",
    "    return count"
   ]
  },
  {
   "cell_type": "markdown",
   "metadata": {},
   "source": [
    "class StdoutListener(StreamListener):\n",
    "    def on_data(self,data):\n",
    "        try:\n",
    "            print (data)\n",
    "            savefile=open('D:/SIT_Class/EE 551 Python/crawler/twitter333.txt','a')\n",
    "            savefile.write(data)\n",
    "            savefile.write(\"\\n\")\n",
    "            savefile.close()\n",
    "            return True\n",
    "        except BaseException as e:\n",
    "            print(\"Failed on Data\",str(e))\n",
    "            time.sleep(5)\n",
    "    def on_erro(self,status):\n",
    "        print(status)"
   ]
  },
  {
   "cell_type": "code",
   "execution_count": null,
   "metadata": {
    "collapsed": true
   },
   "outputs": [],
   "source": [
    "def start_stream():\n",
    "    \n",
    "    # Define Hashtag+Keywords and languages for streaming API filter\n",
    "    \n",
    "    # e.g. [\"#Berlin terror\"] would be to filter for \"#Berlin\" AND \"terror\"\n",
    "    # e.g. [\"#Berlin terror, #Berlin terroranschlag, #Berlin anschlag\"]\n",
    "    # for easier testing we leave this with \"#Berlin\" only\n",
    "    hashtag_to_monitor = [\"#Berlin\"]\n",
    "    \n",
    "    # filtering for english and german language tweets only\n",
    "    LANGUAGES = [\"en\", \"de\"]\n",
    "    \n",
    "    # Connecting to stream\n",
    "    stream = api.GetStreamFilter(track=hashtag_to_monitor, languages=LANGUAGES)        \n",
    "        \n",
    "    # Going through the tweets delivered and saving the selected data to the database\n",
    "    try:\n",
    "        for tweet in stream:\n",
    "            \n",
    "            # make the tweet text suitable for saving in the database and sending by email\n",
    "            # e.g. removing links, having just text as output for easy readability\n",
    "            # and understanding. this also helps as a workaround to unsolved problems\n",
    "            # to send unicode messages by smtplib in python3\n",
    "            tweet[\"text\"] = re.sub(\"\\'\", \"\", tweet[\"text\"])\n",
    "            tweet[\"text\"] = re.sub(\"\\\"\", \"\\\\\\\"\", tweet[\"text\"])\n",
    "            tweet[\"text\"] = re.sub(\"\\s\", \" \", tweet[\"text\"])\n",
    "            tweet[\"text\"] = re.sub(\"http\\S+\", \"\", tweet[\"text\"])\n",
    "            tweet[\"text\"] = re.sub(\"\\W\", \" \", tweet[\"text\"])\n",
    "            \n",
    "            # calling the sqlite_write function and saving the data to the database\n",
    "            \n",
    "            if tweet[\"coordinates\"] != None:\n",
    "            \n",
    "                sqlite_write(tweet[\"id_str\"], tweet[\"user\"][\"screen_name\"], tweet[\"coordinates\"][\"coordinates\"][0], tweet[\"coordinates\"][\"coordinates\"][1],tweet[\"text\"])\n",
    "            else:\n",
    "                sqlite_write(tweet[\"id_str\"], tweet[\"user\"][\"screen_name\"], \"NULL\", \"NULL\", tweet[\"text\"])\n",
    "            \n",
    "            # calling threshold function to check if an alert has to be sent\n",
    "            #threshold()\n",
    "    except Exception as g:\n",
    "        print(\"Exception\", g)\n",
    "        \n",
    "    return"
   ]
  },
  {
   "cell_type": "code",
   "execution_count": null,
   "metadata": {
    "collapsed": true
   },
   "outputs": [],
   "source": [
    "initiate_sqlite()"
   ]
  },
  {
   "cell_type": "code",
   "execution_count": null,
   "metadata": {},
   "outputs": [],
   "source": [
    "start_stream()"
   ]
  },
  {
   "cell_type": "code",
   "execution_count": null,
   "metadata": {
    "collapsed": true
   },
   "outputs": [],
   "source": []
  }
 ],
 "metadata": {
  "kernelspec": {
   "display_name": "Python 2",
   "language": "python",
   "name": "python2"
  },
  "language_info": {
   "codemirror_mode": {
    "name": "ipython",
    "version": 2
   },
   "file_extension": ".py",
   "mimetype": "text/x-python",
   "name": "python",
   "nbconvert_exporter": "python",
   "pygments_lexer": "ipython2",
   "version": "2.7.13"
  }
 },
 "nbformat": 4,
 "nbformat_minor": 2
}
